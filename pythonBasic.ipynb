{
 "cells": [
  {
   "cell_type": "markdown",
   "id": "add895f5-ff68-4897-ba3c-cf4220603f36",
   "metadata": {},
   "source": [
    "# Python basic "
   ]
  },
  {
   "cell_type": "code",
   "execution_count": 1,
   "id": "1969dde4-02ac-4cee-a8ad-3039d9a1dbeb",
   "metadata": {},
   "outputs": [
    {
     "name": "stdout",
     "output_type": "stream",
     "text": [
      "hello\n"
     ]
    }
   ],
   "source": [
    "print(\"hello\")"
   ]
  },
  {
   "cell_type": "code",
   "execution_count": 2,
   "id": "ffa30f77-4506-4472-8976-ac53c0567c38",
   "metadata": {},
   "outputs": [
    {
     "name": "stdout",
     "output_type": "stream",
     "text": [
      "this is the code of basic python in a virtual environment\n"
     ]
    }
   ],
   "source": [
    "print(\"this is the code of basic python in a virtual environment\")"
   ]
  },
  {
   "cell_type": "code",
   "execution_count": null,
   "id": "f86cbdec-20fe-4383-ad23-9908f4578b85",
   "metadata": {},
   "outputs": [],
   "source": []
  }
 ],
 "metadata": {
  "kernelspec": {
   "display_name": "Python [conda env:base] *",
   "language": "python",
   "name": "conda-base-py"
  },
  "language_info": {
   "codemirror_mode": {
    "name": "ipython",
    "version": 3
   },
   "file_extension": ".py",
   "mimetype": "text/x-python",
   "name": "python",
   "nbconvert_exporter": "python",
   "pygments_lexer": "ipython3",
   "version": "3.13.5"
  }
 },
 "nbformat": 4,
 "nbformat_minor": 5
}
