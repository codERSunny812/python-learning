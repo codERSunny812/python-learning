{
 "cells": [
  {
   "cell_type": "markdown",
   "id": "78db74f7",
   "metadata": {},
   "source": [
    "## Numpy basics in python"
   ]
  },
  {
   "cell_type": "code",
   "execution_count": 70,
   "id": "bf22b665",
   "metadata": {},
   "outputs": [],
   "source": [
    "import numpy as np"
   ]
  },
  {
   "cell_type": "markdown",
   "id": "29e5061b",
   "metadata": {},
   "source": [
    "### creating array from the list "
   ]
  },
  {
   "cell_type": "code",
   "execution_count": 71,
   "id": "0b2aaf16",
   "metadata": {},
   "outputs": [
    {
     "name": "stdout",
     "output_type": "stream",
     "text": [
      "1D array: [ 1  2  3 46]\n",
      "2D array [[1 2 3]\n",
      " [4 5 6]]\n"
     ]
    }
   ],
   "source": [
    "arr_1D = np.array([1,2,3,46,])\n",
    "print(\"1D array:\",arr_1D)\n",
    "\n",
    "arr_2D = np.array([[1,2,3],[4,5,6]])\n",
    "print(\"2D array\",arr_2D)"
   ]
  },
  {
   "cell_type": "markdown",
   "id": "54e2beb1",
   "metadata": {},
   "source": [
    "## creating array from the scratch"
   ]
  },
  {
   "cell_type": "code",
   "execution_count": 10,
   "id": "c39609d7",
   "metadata": {},
   "outputs": [
    {
     "name": "stdout",
     "output_type": "stream",
     "text": [
      "zeroes array: \n",
      " [[0. 0.]\n",
      " [0. 0.]\n",
      " [0. 0.]]\n",
      "ones array: \n",
      " [[1. 1. 1. 1. 1. 1. 1.]\n",
      " [1. 1. 1. 1. 1. 1. 1.]\n",
      " [1. 1. 1. 1. 1. 1. 1.]\n",
      " [1. 1. 1. 1. 1. 1. 1.]]\n",
      "fulll array: \n",
      " [[8 8 8]\n",
      " [8 8 8]\n",
      " [8 8 8]]\n",
      "random array: \n",
      " [[0.37593585 0.42807115 0.52710147 0.21353557]\n",
      " [0.09776112 0.95053586 0.63342075 0.66080483]]\n",
      "[ 0  2  4  6  8 10 12 14 16 18]\n"
     ]
    }
   ],
   "source": [
    "zeros = np.zeros((3,2))\n",
    "print(\"zeroes array: \\n\",zeros)\n",
    "\n",
    "\n",
    "ones=np.ones((4,7))\n",
    "print(\"ones array: \\n\",ones)\n",
    "\n",
    "fullArr = np.full((3,3),8)\n",
    "print(\"fulll array: \\n\",fullArr)\n",
    "\n",
    "\n",
    "ranArr = np.random.random((2,4))\n",
    "print(\"random array: \\n\",ranArr)\n",
    "\n",
    "\n",
    "sequenceArr = np.arange(0,20,2) # 20 is exclusive \n",
    "\n",
    "print(sequenceArr)"
   ]
  },
  {
   "cell_type": "markdown",
   "id": "5d0be928",
   "metadata": {},
   "source": []
  },
  {
   "cell_type": "markdown",
   "id": "ae166df7",
   "metadata": {},
   "source": [
    "## vector and matrices and tensor \n"
   ]
  },
  {
   "cell_type": "code",
   "execution_count": 15,
   "id": "6b09f452",
   "metadata": {},
   "outputs": [
    {
     "name": "stdout",
     "output_type": "stream",
     "text": [
      "vector: \n",
      " [1 2 3]\n",
      "matrix : \n",
      " [[1 2 4]\n",
      " [5 9 8]]\n",
      "tensor: \n",
      " [[[1 2]\n",
      "  [3 4]]\n",
      "\n",
      " [[6 7]\n",
      "  [8 9]]]\n"
     ]
    }
   ],
   "source": [
    "vector = np.array([1,2,3])\n",
    "print(\"vector: \\n\",vector)\n",
    "\n",
    "\n",
    "matrix = np.array([[1,2,4],[5,9,8]])\n",
    "print(\"matrix : \\n\",matrix)\n",
    "\n",
    "\n",
    "tensor = np.array([\n",
    "    [ \n",
    "    [1,2],[3,4]\n",
    "    ],\n",
    "    [\n",
    "    [6,7],\n",
    "    [8,9]\n",
    "    ]\n",
    "    ])\n",
    "print(\"tensor: \\n\",tensor)"
   ]
  },
  {
   "cell_type": "markdown",
   "id": "3bac309f",
   "metadata": {},
   "source": [
    "## Array properties in numpy "
   ]
  },
  {
   "cell_type": "code",
   "execution_count": 18,
   "id": "ec77c803",
   "metadata": {},
   "outputs": [
    {
     "name": "stdout",
     "output_type": "stream",
     "text": [
      "shape: (2, 3)\n",
      "dimension: 2\n",
      "size 6\n",
      "data type float64\n"
     ]
    }
   ],
   "source": [
    "arr = np.array([[1,2,3],[4,5,0.6]])\n",
    "print(\"shape:\",arr.shape);\n",
    "print(\"dimension:\",arr.ndim);\n",
    "print(\"size\",arr.size);\n",
    "print(\"data type\",arr.dtype);"
   ]
  },
  {
   "cell_type": "code",
   "execution_count": 28,
   "id": "8320a9c3",
   "metadata": {},
   "outputs": [
    {
     "name": "stdout",
     "output_type": "stream",
     "text": [
      "original array: [ 0  1  2  3  4  5  6  7  8  9 10 11]\n",
      "reshaped array : [[ 0  1  2  3]\n",
      " [ 4  5  6  7]\n",
      " [ 8  9 10 11]]\n",
      "flattened array: [ 0  1  2  3  4  5  6  7  8  9 10 11]\n",
      "raveled array: [ 0  1  2  3  4  5  6  7  8  9 10 11]\n",
      "transposed array: [[ 0  4  8]\n",
      " [ 1  5  9]\n",
      " [ 2  6 10]\n",
      " [ 3  7 11]]\n"
     ]
    }
   ],
   "source": [
    "arr = np.arange(12); # last number is excluded in the array\n",
    "print(\"original array:\",arr)\n",
    "\n",
    "reshapedArr = arr.reshape((3,4))\n",
    "print(\"reshaped array :\",reshapedArr)\n",
    "\n",
    "flatneedArr = reshapedArr.flatten()\n",
    "print(\"flattened array:\",flatneedArr)\n",
    "\n",
    "raveled = reshapedArr.ravel() # return view instead of copy\n",
    "print(\"raveled array:\",raveled)\n",
    "\n",
    "transposedArr = reshapedArr.transpose();\n",
    "print(\"transposed array:\",transposedArr);\n",
    "\n"
   ]
  },
  {
   "cell_type": "markdown",
   "id": "126920de",
   "metadata": {},
   "source": [
    "### Operation in numpy"
   ]
  },
  {
   "cell_type": "code",
   "execution_count": 31,
   "id": "927e9d80",
   "metadata": {},
   "outputs": [
    {
     "name": "stdout",
     "output_type": "stream",
     "text": [
      "basic slicing:\n",
      " [2 3 4 5 6 7]\n",
      "with steps:\n",
      " [3 5 7]\n",
      "negative indexing:\n",
      " [4 5 6]\n"
     ]
    }
   ],
   "source": [
    "newArr = np.array([1,2,3,4,5,6,7,8,9])\n",
    "print(\"basic slicing:\\n\",newArr[1:7])\n",
    "print(\"with steps:\\n\",newArr[2:8:2]);\n",
    "print(\"negative indexing:\\n\",newArr[3:-3])"
   ]
  },
  {
   "cell_type": "markdown",
   "id": "e9700d61",
   "metadata": {},
   "source": [
    "### Operation on 2-d arrays"
   ]
  },
  {
   "cell_type": "code",
   "execution_count": 35,
   "id": "043862aa",
   "metadata": {},
   "outputs": [
    {
     "name": "stdout",
     "output_type": "stream",
     "text": [
      "specific element:\n",
      " 3\n",
      "entire row:\n",
      " [4 5 6]\n",
      "entire column: [2 5 8]\n"
     ]
    }
   ],
   "source": [
    "arr_2d=np.array([[1,2,3],[4,5,6],[7,8,9]] )\n",
    "print(\"specific element:\\n\",arr_2d[0,2])\n",
    "print(\"entire row:\\n\",arr_2d[1])\n",
    "print(\"entire column:\",arr_2d[:,1])"
   ]
  },
  {
   "cell_type": "markdown",
   "id": "e70b20cf",
   "metadata": {},
   "source": [
    "## sorting"
   ]
  },
  {
   "cell_type": "code",
   "execution_count": 36,
   "id": "79c7d980",
   "metadata": {},
   "outputs": [
    {
     "name": "stdout",
     "output_type": "stream",
     "text": [
      "sorted array: [-1  0  0  1  4  5  9 18]\n"
     ]
    }
   ],
   "source": [
    "unsortedArr= np.array([1,0,5,4,9,-1,0,18])\n",
    "print(\"sorted array:\",np.sort(unsortedArr))"
   ]
  },
  {
   "cell_type": "markdown",
   "id": "27838fae",
   "metadata": {},
   "source": [
    "### 2d array sorting in numpy "
   ]
  },
  {
   "cell_type": "code",
   "execution_count": 40,
   "id": "f725cadc",
   "metadata": {},
   "outputs": [
    {
     "name": "stdout",
     "output_type": "stream",
     "text": [
      "sorted 2d array by col: [[1 2]\n",
      " [4 5]\n",
      " [6 7]]\n"
     ]
    }
   ],
   "source": [
    "arr_2d_unsorted = np.array([[1,2],[4,5],[6,7]]);\n",
    "print(\"sorted 2d array by col:\",np.sort(arr_2d_unsorted,axis=1))\n"
   ]
  },
  {
   "cell_type": "code",
   "execution_count": 42,
   "id": "435857d2",
   "metadata": {},
   "outputs": [
    {
     "name": "stdout",
     "output_type": "stream",
     "text": [
      "[ 2  4  6  8 10 12]\n"
     ]
    }
   ],
   "source": [
    "# filter on the array \n",
    "\n",
    "filterArr = np.array([1,2,3,4,5,6,8,10,12]);\n",
    "even_Number = filterArr[filterArr%2 ==0];\n",
    "print(even_Number)"
   ]
  },
  {
   "cell_type": "code",
   "execution_count": 43,
   "id": "12c89959",
   "metadata": {},
   "outputs": [
    {
     "name": "stdout",
     "output_type": "stream",
     "text": [
      "numberes are greater then 6 : [ 8 10 12]\n"
     ]
    }
   ],
   "source": [
    "# filter with mask \n",
    "\n",
    "mask = filterArr > 6\n",
    "print(\"numberes are greater then 6 :\",filterArr[mask])"
   ]
  },
  {
   "cell_type": "markdown",
   "id": "d2278d67",
   "metadata": {},
   "source": [
    "### fancy indexing vs np.where()"
   ]
  },
  {
   "cell_type": "code",
   "execution_count": 45,
   "id": "ed7e2fb4",
   "metadata": {},
   "outputs": [
    {
     "name": "stdout",
     "output_type": "stream",
     "text": [
      "fancy indexes: [1 4 8]\n",
      "NP where: [12]\n"
     ]
    }
   ],
   "source": [
    "fancy_idx = [0,3,6]\n",
    "print(\"fancy indexes:\",filterArr[fancy_idx])\n",
    "\n",
    "where_result = np.where(filterArr > 10);\n",
    "print(\"NP where:\",filterArr[where_result])"
   ]
  },
  {
   "cell_type": "code",
   "execution_count": 46,
   "id": "be330755",
   "metadata": {},
   "outputs": [
    {
     "name": "stdout",
     "output_type": "stream",
     "text": [
      "conditional array: ['false' 'false' 'false' 'false' 'false' 'true' 'true' 'true' 'true']\n"
     ]
    }
   ],
   "source": [
    "# condition array \n",
    "condition_arr = np.where(filterArr>5,\"true\",\"false\")\n",
    "print(\"conditional array:\",condition_arr)"
   ]
  },
  {
   "cell_type": "markdown",
   "id": "a31ccb74",
   "metadata": {},
   "source": [
    "## Adding and removing data "
   ]
  },
  {
   "cell_type": "code",
   "execution_count": 48,
   "id": "d39d18b4",
   "metadata": {},
   "outputs": [
    {
     "name": "stdout",
     "output_type": "stream",
     "text": [
      "combined array: [1 2 4 5]\n"
     ]
    }
   ],
   "source": [
    "arr1 = np.array([1,2])\n",
    "arr2 = np.array([4,5])\n",
    "\n",
    "# concation of array \n",
    "\n",
    "combined = np.concat((arr1,arr2))\n",
    "print(\"combined array:\",combined)"
   ]
  },
  {
   "cell_type": "markdown",
   "id": "66ea4b8a",
   "metadata": {},
   "source": [
    "### array compatibility"
   ]
  },
  {
   "cell_type": "code",
   "execution_count": 50,
   "id": "8b10680c",
   "metadata": {},
   "outputs": [
    {
     "name": "stdout",
     "output_type": "stream",
     "text": [
      "combined array:\n",
      " False\n"
     ]
    }
   ],
   "source": [
    "a=np.array([1,2,3]);\n",
    "b=np.array([4,5,6,0]);\n",
    "c=np.array([9,17,2]);\n",
    "\n",
    "# in some case we have to check the shape of the array before combining them\n",
    "print(\"compatibily shape:\\n\",a.shape == b.shape)"
   ]
  },
  {
   "cell_type": "code",
   "execution_count": 56,
   "id": "17968491",
   "metadata": {},
   "outputs": [
    {
     "name": "stdout",
     "output_type": "stream",
     "text": [
      "array with new row:\n",
      " [[1 2]\n",
      " [4 5]\n",
      " [2 1]\n",
      " [4 5]]\n",
      "array with a new column:\n",
      " [[1 9]\n",
      " [3 0]]\n"
     ]
    }
   ],
   "source": [
    "originalArr = np.array([[1,2],[4,5]]);\n",
    "new_row = np.array([[2,1],[4,5]]);\n",
    "\n",
    "## addding a new row in the array\n",
    "\n",
    "arr_with_new_row = np.vstack((originalArr,new_row))\n",
    "print(\"array with new row:\\n\",arr_with_new_row)\n",
    "\n",
    "org_arr = np.array([[1],[3]])\n",
    "new_col = np.array([[9],[0]]);\n",
    "with_new_col=np.hstack((org_arr,new_col));\n",
    "print(\"array with a new column:\\n\",with_new_col);\n"
   ]
  },
  {
   "cell_type": "code",
   "execution_count": 60,
   "id": "5b62654c",
   "metadata": {},
   "outputs": [
    {
     "name": "stdout",
     "output_type": "stream",
     "text": [
      "new array:\n",
      " [1 2 3 4 6]\n",
      "deleted array:\n",
      " [2 3 4 6]\n"
     ]
    }
   ],
   "source": [
    "# deletion in array \n",
    "\n",
    "new_arr = np.array([1,2,3,4,6]);\n",
    "print(\"new array:\\n\",new_arr);\n",
    "deleted_arr=np.delete(new_arr,0)\n",
    "print(\"deleted array:\\n\",deleted_arr)"
   ]
  },
  {
   "cell_type": "markdown",
   "id": "8c0475a0",
   "metadata": {},
   "source": [
    "## Advance operation with business example "
   ]
  },
  {
   "cell_type": "markdown",
   "id": "3fa6b173",
   "metadata": {},
   "source": [
    "### data structure : [restaurant_id,2021,2022,2023,2024,2025 ]\n",
    "\n",
    "- sales_data = np.array([\n",
    "    [1,25000,26000,27000,28000,29000], #company1\n",
    "    [2,35000,36000,37000,38000,39000], #company2\n",
    "     [3,45000,46000,47000,48000,49000],#company3\n",
    "     [4,55000,56000,57000,58000,59000] #company4\n",
    "\n",
    "])"
   ]
  },
  {
   "cell_type": "code",
   "execution_count": 69,
   "id": "d0f9fa54",
   "metadata": {},
   "outputs": [
    {
     "name": "stdout",
     "output_type": "stream",
     "text": [
      "zomato sales analysis\n",
      "sales data shape (4, 6)\n",
      "sales array data:\n",
      " [[    1 25000 26000 27000 28000 29000]\n",
      " [    2 35000 36000 37000 38000 39000]\n",
      " [    3 45000 46000 47000 48000 49000]\n",
      " [    4 55000 56000 57000 58000 59000]]\n",
      "sales  array output:\n",
      " [[    1 25000 26000 27000 28000 29000]\n",
      " [    2 35000 36000 37000 38000 39000]\n",
      " [    3 45000 46000 47000 48000 49000]]\n",
      "sales  array output with specific slicing:\n",
      " [[    1 25000 26000 27000 28000 29000]\n",
      " [    2 35000 36000 37000 38000 39000]\n",
      " [    3 45000 46000 47000 48000 49000]\n",
      " [    4 55000 56000 57000 58000 59000]]\n"
     ]
    }
   ],
   "source": [
    "import matplotlib.pyplot as mat\n",
    "\n",
    "sales_2d_arr = np.array([\n",
    "    [1,25000,26000,27000,28000,29000], \n",
    "    [2,35000,36000,37000,38000,39000], \n",
    "    [3,45000,46000,47000,48000,49000],\n",
    "    [4,55000,56000,57000,58000,59000]\n",
    "])\n",
    "\n",
    "print(\"zomato sales analysis\")\n",
    "\n",
    "print(\"sales data shape\",sales_2d_arr.shape)\n",
    "\n",
    "print(\"sales array data:\\n\",sales_2d_arr)\n",
    "\n",
    "print(\"sales  array output with new slicing\\n\",sales_2d_arr[0 :3])\n",
    "print(\"sales  array output with specific slicing:\\n\",sales_2d_arr[:,:])\n",
    "\n",
    "## total sales per year \n",
    "print(\"total sales per year:\\n\", )"
   ]
  },
  {
   "cell_type": "code",
   "execution_count": null,
   "id": "6b51a091",
   "metadata": {},
   "outputs": [],
   "source": []
  }
 ],
 "metadata": {
  "kernelspec": {
   "display_name": "base",
   "language": "python",
   "name": "python3"
  },
  "language_info": {
   "codemirror_mode": {
    "name": "ipython",
    "version": 3
   },
   "file_extension": ".py",
   "mimetype": "text/x-python",
   "name": "python",
   "nbconvert_exporter": "python",
   "pygments_lexer": "ipython3",
   "version": "3.13.5"
  }
 },
 "nbformat": 4,
 "nbformat_minor": 5
}
