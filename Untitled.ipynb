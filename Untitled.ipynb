{
 "cells": [
  {
   "cell_type": "code",
   "execution_count": 15,
   "id": "bb8de382-ddbc-4794-8f0d-7fe7b5b86305",
   "metadata": {},
   "outputs": [
    {
     "name": "stdout",
     "output_type": "stream",
     "text": [
      "hello bhai12\n"
     ]
    }
   ],
   "source": [
    "# String data type in  python\n",
    "\n",
    "str = \"hello bhai12\"\n",
    "print(str)"
   ]
  },
  {
   "cell_type": "code",
   "execution_count": 11,
   "id": "1bba8f98-a254-4a35-9dba-4a5732ddf2b4",
   "metadata": {},
   "outputs": [
    {
     "data": {
      "text/plain": [
       "False"
      ]
     },
     "execution_count": 11,
     "metadata": {},
     "output_type": "execute_result"
    }
   ],
   "source": [
    "str.istitle() # check if the string contain title word  "
   ]
  },
  {
   "cell_type": "code",
   "execution_count": 12,
   "id": "991b735e-e483-456c-aa87-cd867c460d9f",
   "metadata": {},
   "outputs": [
    {
     "name": "stdout",
     "output_type": "stream",
     "text": [
      "False\n"
     ]
    }
   ],
   "source": [
    "print(str.istitle()) "
   ]
  },
  {
   "cell_type": "code",
   "execution_count": 13,
   "id": "b8d044cc-7dd0-4de4-aa33-e656b47be851",
   "metadata": {},
   "outputs": [
    {
     "name": "stdout",
     "output_type": "stream",
     "text": [
      "False\n"
     ]
    }
   ],
   "source": [
    "print(str.isalnum())"
   ]
  },
  {
   "cell_type": "code",
   "execution_count": 16,
   "id": "a092d634-afe0-4865-98ec-f1778d274be8",
   "metadata": {},
   "outputs": [
    {
     "name": "stdout",
     "output_type": "stream",
     "text": [
      "False\n"
     ]
    }
   ],
   "source": [
    "print(str.isalpha())"
   ]
  },
  {
   "cell_type": "code",
   "execution_count": 17,
   "id": "f8eb4163-8e67-4a08-bd59-083a65551fbe",
   "metadata": {},
   "outputs": [
    {
     "name": "stdout",
     "output_type": "stream",
     "text": [
      "False\n"
     ]
    }
   ],
   "source": [
    "print(str.isupper())"
   ]
  },
  {
   "cell_type": "code",
   "execution_count": 18,
   "id": "08d52292-21e7-42eb-81b4-c6678cedc61d",
   "metadata": {},
   "outputs": [
    {
     "name": "stdout",
     "output_type": "stream",
     "text": [
      "True\n"
     ]
    }
   ],
   "source": [
    "print(str.islower())"
   ]
  },
  {
   "cell_type": "code",
   "execution_count": 19,
   "id": "0e2dd34a-9a3a-477c-a2e9-ce1c30ec2de2",
   "metadata": {},
   "outputs": [
    {
     "name": "stdout",
     "output_type": "stream",
     "text": [
      "False\n"
     ]
    }
   ],
   "source": [
    "print(str.isspace())"
   ]
  },
  {
   "cell_type": "markdown",
   "id": "e37ea043-cc71-46d2-8d5b-d27ed9c8ce45",
   "metadata": {},
   "source": [
    "# List in  python "
   ]
  },
  {
   "cell_type": "code",
   "execution_count": null,
   "id": "47070b6c-10d6-43eb-87c9-95f16cde8b2b",
   "metadata": {},
   "outputs": [],
   "source": []
  }
 ],
 "metadata": {
  "kernelspec": {
   "display_name": "Python [conda env:base] *",
   "language": "python",
   "name": "conda-base-py"
  },
  "language_info": {
   "codemirror_mode": {
    "name": "ipython",
    "version": 3
   },
   "file_extension": ".py",
   "mimetype": "text/x-python",
   "name": "python",
   "nbconvert_exporter": "python",
   "pygments_lexer": "ipython3",
   "version": "3.13.5"
  }
 },
 "nbformat": 4,
 "nbformat_minor": 5
}
