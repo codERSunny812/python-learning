{
 "cells": [
  {
   "cell_type": "markdown",
   "id": "36ca8f12",
   "metadata": {},
   "source": [
    "# Data Type in Python "
   ]
  },
  {
   "cell_type": "markdown",
   "id": "52e849e8",
   "metadata": {},
   "source": [
    "- Number (int,float,complex)\n",
    "- text (str)\n",
    "- sequence (list,tuple,orange)\n",
    "- mapping (dict)\n",
    "- set (set,frozenset)\n",
    "- boolean (bool)\n",
    "- binary (bytes,bytearray, memoryview)\n",
    "- none  ( none type)\n"
   ]
  },
  {
   "cell_type": "code",
   "execution_count": 1,
   "id": "f4553a3b",
   "metadata": {},
   "outputs": [
    {
     "name": "stdout",
     "output_type": "stream",
     "text": [
      "<class 'int'>\n"
     ]
    }
   ],
   "source": [
    "x= 1+1\n",
    "print(type(x))"
   ]
  },
  {
   "cell_type": "code",
   "execution_count": 2,
   "id": "32d71260",
   "metadata": {},
   "outputs": [
    {
     "name": "stdout",
     "output_type": "stream",
     "text": [
      "<class 'float'>\n"
     ]
    }
   ],
   "source": [
    "y=20.5\n",
    "print(type(y))"
   ]
  },
  {
   "cell_type": "code",
   "execution_count": 3,
   "id": "1ac659aa",
   "metadata": {},
   "outputs": [
    {
     "name": "stdout",
     "output_type": "stream",
     "text": [
      "<class 'str'>\n"
     ]
    }
   ],
   "source": [
    "z=\"hello world\"\n",
    "print(type(z))"
   ]
  },
  {
   "cell_type": "code",
   "execution_count": 5,
   "id": "601dcfe9",
   "metadata": {},
   "outputs": [
    {
     "name": "stdout",
     "output_type": "stream",
     "text": [
      "<class 'complex'>\n"
     ]
    }
   ],
   "source": [
    "a=1j\n",
    "print(type(a))"
   ]
  },
  {
   "cell_type": "code",
   "execution_count": 10,
   "id": "9d9642d8",
   "metadata": {},
   "outputs": [
    {
     "name": "stdout",
     "output_type": "stream",
     "text": [
      "<class 'list'>\n",
      "<class 'tuple'>\n",
      "<class 'range'>\n",
      "<class 'dict'>\n",
      "<class 'set'>\n",
      "<class 'str'>\n"
     ]
    }
   ],
   "source": [
    "b=[\"apple\", \"banana\", \"cherry\"]\n",
    "print(type(b))\n",
    "\n",
    "\n",
    "c=(\"apple\", \"banana\", \"cherry\")\n",
    "print(type(c))\n",
    "\n",
    "\n",
    "d=range(6)\n",
    "print(type(d))\n",
    "\n",
    "e={\n",
    "    \"name\":\"sunny\",\n",
    "    \"age\":23\n",
    "}\n",
    "\n",
    "print(type(e))\n",
    "\n",
    "f={\"apple\",\"banana\",\"dragon fruit\"}\n",
    "print(type(f))\n",
    "\n",
    "\n",
    "\n",
    "# if we want to specify any of the data type then we can use the constructor function for that \n",
    "x = str(\"hello world\")\n",
    "print(type(x))"
   ]
  },
  {
   "cell_type": "code",
   "execution_count": null,
   "id": "3fefae8b",
   "metadata": {},
   "outputs": [],
   "source": [
    "# type casting in python\n"
   ]
  },
  {
   "cell_type": "markdown",
   "id": "ed825e4f",
   "metadata": {},
   "source": [
    "- To check the data type in python is we use type keyword "
   ]
  },
  {
   "cell_type": "markdown",
   "id": "44e1f36d",
   "metadata": {},
   "source": [
    "# List in  python\n"
   ]
  },
  {
   "cell_type": "code",
   "execution_count": 92,
   "id": "e4c9eb51-ae71-4fec-94be-fbd4df3d389b",
   "metadata": {},
   "outputs": [
    {
     "name": "stdout",
     "output_type": "stream",
     "text": [
      "[1, 2, 4, 5]\n",
      "<class 'list'>\n"
     ]
    }
   ],
   "source": [
    "newList  = [1,2,4,5]\n",
    "print(newList)\n",
    "print(type(newList))"
   ]
  },
  {
   "cell_type": "markdown",
   "id": "9039122f-31ac-4ad4-afa2-40f993be276f",
   "metadata": {},
   "source": [
    "# Append"
   ]
  },
  {
   "cell_type": "code",
   "execution_count": 93,
   "id": "d9680a82-a152-43fb-aa86-71a4ec0e639c",
   "metadata": {},
   "outputs": [
    {
     "name": "stdout",
     "output_type": "stream",
     "text": [
      "[1, 2, 4, 5, 's']\n"
     ]
    }
   ],
   "source": [
    "newList.append(\"s\")\n",
    "print(newList)"
   ]
  },
  {
   "cell_type": "code",
   "execution_count": 94,
   "id": "f85a3a9f-35eb-471e-9bc1-cbd7ea6f039b",
   "metadata": {},
   "outputs": [
    {
     "data": {
      "text/plain": [
       "[1, 2, 4, 5, 's']"
      ]
     },
     "execution_count": 94,
     "metadata": {},
     "output_type": "execute_result"
    }
   ],
   "source": [
    "newList"
   ]
  },
  {
   "cell_type": "code",
   "execution_count": 95,
   "id": "8c3465bb-92ab-4c36-8a11-ff7e0b592dca",
   "metadata": {},
   "outputs": [],
   "source": [
    "# indexing in the list "
   ]
  },
  {
   "cell_type": "code",
   "execution_count": 96,
   "id": "3364fdd3-64b0-4139-870e-9a52079f225d",
   "metadata": {},
   "outputs": [
    {
     "data": {
      "text/plain": [
       "1"
      ]
     },
     "execution_count": 96,
     "metadata": {},
     "output_type": "execute_result"
    }
   ],
   "source": [
    "newList[0]\n"
   ]
  },
  {
   "cell_type": "code",
   "execution_count": 97,
   "id": "159f1a76-1b22-48ad-bb6c-2f5976aecab8",
   "metadata": {},
   "outputs": [
    {
     "data": {
      "text/plain": [
       "[1, 2, 4, 5, 's']"
      ]
     },
     "execution_count": 97,
     "metadata": {},
     "output_type": "execute_result"
    }
   ],
   "source": [
    "newList[0:5]\n"
   ]
  },
  {
   "cell_type": "code",
   "execution_count": 98,
   "id": "cc33f276-71b7-4400-8295-9975f739406f",
   "metadata": {},
   "outputs": [
    {
     "data": {
      "text/plain": [
       "[1, 2, 4, 5, 's']"
      ]
     },
     "execution_count": 98,
     "metadata": {},
     "output_type": "execute_result"
    }
   ],
   "source": [
    "newList[0:6]\n"
   ]
  },
  {
   "cell_type": "markdown",
   "id": "ffae4c7f-dbb4-49d4-9368-4634bb1b96bc",
   "metadata": {},
   "source": [
    "## Insert"
   ]
  },
  {
   "cell_type": "markdown",
   "id": "b43c30c6-11e7-448c-9ced-639fccf67e96",
   "metadata": {},
   "source": [
    "- Insert at a specific index"
   ]
  },
  {
   "cell_type": "code",
   "execution_count": 99,
   "id": "3259434e-c57f-40b8-bfe3-95a2cf9b6480",
   "metadata": {},
   "outputs": [
    {
     "name": "stdout",
     "output_type": "stream",
     "text": [
      "[1, 'hello sunny', 2, 4, 5, 's']\n"
     ]
    }
   ],
   "source": [
    "newList.insert(1,\"hello sunny\")\n",
    "print(newList)\n"
   ]
  },
  {
   "cell_type": "markdown",
   "id": "41e789b9-5d1b-4657-94a1-db0217275170",
   "metadata": {},
   "source": [
    "## Extend method in python\n"
   ]
  },
  {
   "cell_type": "code",
   "execution_count": 100,
   "id": "84a93f63-9199-486d-86b9-00f01623f97e",
   "metadata": {},
   "outputs": [],
   "source": [
    "listNew = [1,2,3,4,5]"
   ]
  },
  {
   "cell_type": "code",
   "execution_count": 101,
   "id": "c1809ccd-ad08-4d95-8915-618afb7871db",
   "metadata": {},
   "outputs": [],
   "source": [
    "listNew.extend([10,11,71])"
   ]
  },
  {
   "cell_type": "code",
   "execution_count": 102,
   "id": "819ac634-5d26-44d1-8ae5-917520d2757b",
   "metadata": {},
   "outputs": [
    {
     "name": "stdout",
     "output_type": "stream",
     "text": [
      "[1, 2, 3, 4, 5, 10, 11, 71]\n"
     ]
    }
   ],
   "source": [
    "print(listNew)"
   ]
  },
  {
   "cell_type": "markdown",
   "id": "5e6a6831-e812-41c0-83f6-6c57a04b0870",
   "metadata": {},
   "source": [
    "# Sets in Python"
   ]
  },
  {
   "cell_type": "code",
   "execution_count": 103,
   "id": "09c8fb34-58c3-459a-ad51-3fc1457d7dbc",
   "metadata": {},
   "outputs": [
    {
     "name": "stdout",
     "output_type": "stream",
     "text": [
      "{'how', 'hwllo', 'are', 'sunny', 'you'}\n",
      "<class 'set'>\n",
      "{1, 2, 3, 5}\n"
     ]
    }
   ],
   "source": [
    "thisSet = {\"hwllo\",\"sunny\",\"how\", \"are\",\"you\"}\n",
    "print(thisSet)\n",
    "print(type(thisSet))\n",
    "thisSet2 = set((1,2,3,5,5)) # this is the set constructor\n",
    "print(thisSet2)"
   ]
  },
  {
   "cell_type": "code",
   "execution_count": 104,
   "id": "9ddead2b-31b5-47bc-a05a-99964127f3fd",
   "metadata": {},
   "outputs": [
    {
     "name": "stdout",
     "output_type": "stream",
     "text": [
      "5\n"
     ]
    }
   ],
   "source": [
    "# function in sets \n",
    "print(len(thisSet))"
   ]
  },
  {
   "cell_type": "code",
   "execution_count": 105,
   "id": "ac0fe8bf-4b03-4aef-b08d-319678d4617c",
   "metadata": {},
   "outputs": [
    {
     "name": "stdout",
     "output_type": "stream",
     "text": [
      "how\n",
      "hwllo\n",
      "are\n",
      "sunny\n",
      "you\n",
      "{'how', 'hwllo', 'are', 12, 'sunny', 'you'}\n"
     ]
    }
   ],
   "source": [
    "# acessig the  element of the sets \n",
    "for x in thisSet:\n",
    "    print(x)\n",
    "\n",
    "# add items in set \n",
    "thisSet.add(12)\n",
    "print(thisSet)"
   ]
  },
  {
   "cell_type": "code",
   "execution_count": 106,
   "id": "cb7d17d1-c0c8-4e9c-99ee-c0c8852b6a6c",
   "metadata": {},
   "outputs": [
    {
     "name": "stdout",
     "output_type": "stream",
     "text": [
      "{'mango', 'banana', 'pineapple', 'papaya', 'cherry', 'apple'}\n"
     ]
    }
   ],
   "source": [
    "thisset2 = {\"apple\", \"banana\", \"cherry\"}\n",
    "tropical2 = {\"pineapple\", \"mango\", \"papaya\"}\n",
    "\n",
    "thisset2.update(tropical2)\n",
    "\n",
    "print(thisset2)"
   ]
  },
  {
   "cell_type": "code",
   "execution_count": 107,
   "id": "568cb544-acfb-4492-9272-cc3202579f36",
   "metadata": {},
   "outputs": [
    {
     "name": "stdout",
     "output_type": "stream",
     "text": [
      "{1, 2, 5}\n",
      "1\n",
      "{2, 5}\n"
     ]
    }
   ],
   "source": [
    "# to remove element from the set \n",
    "thisIsNewSet = {1,2,4,5}\n",
    "thisIsNewSet.remove(4) # if the remove element will not exist then it will raise a error we can use the discard method instead of this \n",
    "print(thisIsNewSet)\n",
    "x = thisIsNewSet.pop() # remove an element randomly\n",
    "print(x)\n",
    "print(thisIsNewSet)\n"
   ]
  },
  {
   "cell_type": "markdown",
   "id": "31dfa7e7-e8ad-4e60-a9bc-e19db32281f9",
   "metadata": {},
   "source": [
    "# dictionary in python "
   ]
  },
  {
   "cell_type": "code",
   "execution_count": 108,
   "id": "f8762c75-a6b2-4f32-a72d-16f6e42dcce0",
   "metadata": {},
   "outputs": [
    {
     "name": "stdout",
     "output_type": "stream",
     "text": [
      "{'name': 'sunny', 'car': 'jaguar', 'bike': 'kawasaki z900', 'age': 23}\n"
     ]
    }
   ],
   "source": [
    "thisIsDict = {\n",
    "    \"name\":\"sunny\",\n",
    "    \"car\":\"jaguar\",\n",
    "    \"bike\":\"kawasaki z900\",\n",
    "    \"age\":23\n",
    "}\n",
    "\n",
    "print(thisIsDict)\n",
    "    "
   ]
  },
  {
   "cell_type": "code",
   "execution_count": 109,
   "id": "4eef2173-4eb5-41a8-aab9-b382eaa8f11d",
   "metadata": {},
   "outputs": [
    {
     "name": "stdout",
     "output_type": "stream",
     "text": [
      "jaguar\n",
      "dict_keys(['name', 'car', 'bike', 'age'])\n",
      "{'name': 'sunny', 'car': 'jaguar', 'bike': 'kawasaki z900', 'age': 23, 'gender': 'male'}\n",
      "{'name': 'sunny', 'car': 'jaguar', 'bike': 'kawasaki z900', 'age': 23}\n",
      "Emil\n"
     ]
    }
   ],
   "source": [
    "# accessing the dictionary element\n",
    "thisIsDict[\"name\"]\n",
    "x= thisIsDict.get(\"car\")\n",
    "print(x)\n",
    "\n",
    "# getting the list of the keys \n",
    "\n",
    "y = thisIsDict.keys()\n",
    "print(y)\n",
    "\n",
    "\n",
    "# adding new element  to the dictionary\n",
    "\n",
    "thisIsDict[\"gender\"]=\"male\"\n",
    "print(thisIsDict)\n",
    "\n",
    "# removing the element from the dictionary\n",
    "\n",
    "thisIsDict.pop(\"gender\")\n",
    "print(thisIsDict)\n",
    "\n",
    "thisIsDict.popitem() # remove any random element from the dictionary\n",
    "\n",
    "# nested dictionary \n",
    "\n",
    "myfamily = {\n",
    "  \"child1\" : {\n",
    "    \"name\" : \"Emil\",\n",
    "    \"year\" : 2004\n",
    "  },\n",
    "  \"child2\" : {\n",
    "    \"name\" : \"Tobias\",\n",
    "    \"year\" : 2007\n",
    "  },\n",
    "  \"child3\" : {\n",
    "    \"name\" : \"Linus\",\n",
    "    \"year\" : 2011\n",
    "  }\n",
    "}\n",
    "\n",
    "print(myfamily[\"child1\"][\"name\"])\n"
   ]
  },
  {
   "cell_type": "markdown",
   "id": "6fb795f7-6301-4081-b471-41f3e357a1a0",
   "metadata": {},
   "source": [
    "# Tuples in python "
   ]
  },
  {
   "cell_type": "code",
   "execution_count": 110,
   "id": "d3f1589d-6f22-4462-9470-0ea2c1ef95bb",
   "metadata": {},
   "outputs": [
    {
     "name": "stdout",
     "output_type": "stream",
     "text": [
      "('apple', 'banana', 'cheery', 'sunflower', 'lol')\n"
     ]
    }
   ],
   "source": [
    "thisIsTuple = (\"apple\",\"banana\",\"cheery\",\"sunflower\",\"lol\")\n",
    "print(thisIsTuple)"
   ]
  },
  {
   "cell_type": "code",
   "execution_count": 111,
   "id": "f8e9181d-df9a-4093-ba58-e8e10f4d11e9",
   "metadata": {},
   "outputs": [
    {
     "data": {
      "text/plain": [
       "'banana'"
      ]
     },
     "execution_count": 111,
     "metadata": {},
     "output_type": "execute_result"
    }
   ],
   "source": [
    "thisIsTuple[1] # accessing  is same as  in the array "
   ]
  },
  {
   "cell_type": "code",
   "execution_count": 112,
   "id": "69634a1d-59bb-482c-b983-3599b4671b49",
   "metadata": {},
   "outputs": [
    {
     "data": {
      "text/plain": [
       "('banana', 'cheery')"
      ]
     },
     "execution_count": 112,
     "metadata": {},
     "output_type": "execute_result"
    }
   ],
   "source": [
    "thisIsTuple[1:3] # exclude the last index "
   ]
  },
  {
   "cell_type": "code",
   "execution_count": 114,
   "id": "e97a9704-be24-40ae-9ea3-a3b95abc1624",
   "metadata": {},
   "outputs": [
    {
     "ename": "TypeError",
     "evalue": "'list' object is not callable",
     "output_type": "error",
     "traceback": [
      "\u001b[0;31m---------------------------------------------------------------------------\u001b[0m",
      "\u001b[0;31mTypeError\u001b[0m                                 Traceback (most recent call last)",
      "Cell \u001b[0;32mIn[114], line 2\u001b[0m\n\u001b[1;32m      1\u001b[0m thistuple \u001b[38;5;241m=\u001b[39m (\u001b[38;5;124m\"\u001b[39m\u001b[38;5;124mapple\u001b[39m\u001b[38;5;124m\"\u001b[39m, \u001b[38;5;124m\"\u001b[39m\u001b[38;5;124mbanana\u001b[39m\u001b[38;5;124m\"\u001b[39m, \u001b[38;5;124m\"\u001b[39m\u001b[38;5;124mcherry\u001b[39m\u001b[38;5;124m\"\u001b[39m)\n\u001b[0;32m----> 2\u001b[0m y \u001b[38;5;241m=\u001b[39m \u001b[38;5;28mlist\u001b[39m(thistuple)\n\u001b[1;32m      3\u001b[0m y\u001b[38;5;241m.\u001b[39mappend(\u001b[38;5;124m\"\u001b[39m\u001b[38;5;124morange\u001b[39m\u001b[38;5;124m\"\u001b[39m)\n\u001b[1;32m      4\u001b[0m thistuple \u001b[38;5;241m=\u001b[39m \u001b[38;5;28mtuple\u001b[39m(y)\n",
      "\u001b[0;31mTypeError\u001b[0m: 'list' object is not callable"
     ]
    }
   ],
   "source": [
    "thistuple = (\"apple\", \"banana\", \"cherry\")\n",
    "y = list(thistuple)\n",
    "y.append(\"orange\")\n",
    "thistuple = tuple(y)"
   ]
  },
  {
   "cell_type": "code",
   "execution_count": 121,
   "id": "88035101-1ceb-43ad-95cb-571b4e1a7aa0",
   "metadata": {},
   "outputs": [
    {
     "name": "stdout",
     "output_type": "stream",
     "text": [
      "apple mango ['banana', 'strawberry']\n"
     ]
    }
   ],
   "source": [
    "# unpacking of tuples \n",
    "\n",
    "fruitsName = (\"apple\",\"mango\",\"banana\",\"strawberry\")\n",
    "(fruit1,fruit2,*fruit3)=fruitsName\n",
    "print(fruit1,fruit2,fruit3)"
   ]
  },
  {
   "cell_type": "code",
   "execution_count": null,
   "id": "fb6d451f-6e81-44d2-93a2-d1f31471d300",
   "metadata": {},
   "outputs": [],
   "source": []
  },
  {
   "cell_type": "code",
   "execution_count": null,
   "id": "3f0c0d1b-1eef-44a7-b003-4a47695e0af3",
   "metadata": {},
   "outputs": [],
   "source": []
  }
 ],
 "metadata": {
  "kernelspec": {
   "display_name": "base",
   "language": "python",
   "name": "python3"
  },
  "language_info": {
   "codemirror_mode": {
    "name": "ipython",
    "version": 3
   },
   "file_extension": ".py",
   "mimetype": "text/x-python",
   "name": "python",
   "nbconvert_exporter": "python",
   "pygments_lexer": "ipython3",
   "version": "3.13.5"
  }
 },
 "nbformat": 4,
 "nbformat_minor": 5
}
