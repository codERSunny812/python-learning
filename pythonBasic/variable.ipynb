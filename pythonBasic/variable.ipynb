{
 "cells": [
  {
   "cell_type": "code",
   "execution_count": 3,
   "id": "988428a3",
   "metadata": {},
   "outputs": [
    {
     "name": "stdout",
     "output_type": "stream",
     "text": [
      "5\n",
      "hello world\n",
      "<class 'int'>\n",
      "<class 'str'>\n",
      "orange 1 orange\n"
     ]
    }
   ],
   "source": [
    "x = 5\n",
    "y=\"hello world\"\n",
    "\n",
    "print(x) # this is an comment in py\n",
    "print(y)\n",
    "\n",
    "print(type(x)) #  function to get the type of the variable\n",
    "print(type(y))\n",
    "\n",
    "\n",
    "# many values to mutliple variable \n",
    "\n",
    "x,y,z= \"orange\",1,True\n",
    "print(x,y,x)\n"
   ]
  },
  {
   "cell_type": "code",
   "execution_count": 4,
   "id": "f26c0e49",
   "metadata": {},
   "outputs": [
    {
     "name": "stdout",
     "output_type": "stream",
     "text": [
      "apple banana cheery\n"
     ]
    }
   ],
   "source": [
    "# unpack a collection \n",
    "\n",
    "fruits=[\"apple\",\"banana\",\"cheery\"];\n",
    "\n",
    "a,b,c=fruits;\n",
    "\n",
    "\n",
    "print(a,b,c)"
   ]
  },
  {
   "cell_type": "code",
   "execution_count": 7,
   "id": "3657b995",
   "metadata": {},
   "outputs": [
    {
     "name": "stdout",
     "output_type": "stream",
     "text": [
      "hellosunnny\n",
      "hellosunny\n"
     ]
    }
   ],
   "source": [
    "# global variables  vs function variable\n",
    "\n",
    "\n",
    "\n",
    "x= \"hello\"\n",
    "\n",
    "def myFun():\n",
    "    name = \"sunnny\" # not accessible outside the func\n",
    "    global name2 \n",
    "    name2 = \"sunny\"\n",
    "    print(x+name)\n",
    "\n",
    "\n",
    "myFun()\n",
    "\n",
    "print(x+name2) # name is not accessible "
   ]
  },
  {
   "cell_type": "code",
   "execution_count": null,
   "id": "07793ac5",
   "metadata": {},
   "outputs": [],
   "source": []
  }
 ],
 "metadata": {
  "kernelspec": {
   "display_name": "base",
   "language": "python",
   "name": "python3"
  },
  "language_info": {
   "codemirror_mode": {
    "name": "ipython",
    "version": 3
   },
   "file_extension": ".py",
   "mimetype": "text/x-python",
   "name": "python",
   "nbconvert_exporter": "python",
   "pygments_lexer": "ipython3",
   "version": "3.13.5"
  }
 },
 "nbformat": 4,
 "nbformat_minor": 5
}
